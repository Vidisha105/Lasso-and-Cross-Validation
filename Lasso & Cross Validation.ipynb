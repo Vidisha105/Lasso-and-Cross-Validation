{
 "cells": [
  {
   "cell_type": "code",
   "execution_count": 1,
   "id": "080d9ead",
   "metadata": {},
   "outputs": [],
   "source": [
    "import pandas as pd\n",
    "from sklearn.model_selection import train_test_split\n",
    "from sklearn.preprocessing import StandardScaler\n",
    "from sklearn.linear_model import Lasso\n",
    "from sklearn.metrics import mean_squared_error\n",
    "import numpy as np\n",
    "import matplotlib.pyplot as plt\n",
    "import time\n",
    "from sklearn.linear_model import LassoLarsIC\n",
    "from sklearn.pipeline import make_pipeline\n",
    "from sklearn.model_selection import KFold\n",
    "from sklearn.linear_model import LinearRegression\n",
    "from sklearn.model_selection import cross_val_score"
   ]
  },
  {
   "cell_type": "code",
   "execution_count": 2,
   "id": "0fc206b8",
   "metadata": {},
   "outputs": [
    {
     "data": {
      "text/html": [
       "<div>\n",
       "<style scoped>\n",
       "    .dataframe tbody tr th:only-of-type {\n",
       "        vertical-align: middle;\n",
       "    }\n",
       "\n",
       "    .dataframe tbody tr th {\n",
       "        vertical-align: top;\n",
       "    }\n",
       "\n",
       "    .dataframe thead th {\n",
       "        text-align: right;\n",
       "    }\n",
       "</style>\n",
       "<table border=\"1\" class=\"dataframe\">\n",
       "  <thead>\n",
       "    <tr style=\"text-align: right;\">\n",
       "      <th></th>\n",
       "      <th>origin</th>\n",
       "      <th>name</th>\n",
       "      <th>cylinders</th>\n",
       "      <th>model_year</th>\n",
       "      <th>mpg</th>\n",
       "      <th>displacement</th>\n",
       "      <th>horsepower</th>\n",
       "      <th>weight</th>\n",
       "      <th>acceleration</th>\n",
       "    </tr>\n",
       "  </thead>\n",
       "  <tbody>\n",
       "    <tr>\n",
       "      <th>0</th>\n",
       "      <td>usa</td>\n",
       "      <td>chevrolet chevelle malibu</td>\n",
       "      <td>8</td>\n",
       "      <td>70</td>\n",
       "      <td>18.0</td>\n",
       "      <td>307.0</td>\n",
       "      <td>130.0</td>\n",
       "      <td>3504</td>\n",
       "      <td>12.0</td>\n",
       "    </tr>\n",
       "    <tr>\n",
       "      <th>1</th>\n",
       "      <td>usa</td>\n",
       "      <td>buick skylark 320</td>\n",
       "      <td>8</td>\n",
       "      <td>70</td>\n",
       "      <td>15.0</td>\n",
       "      <td>350.0</td>\n",
       "      <td>165.0</td>\n",
       "      <td>3693</td>\n",
       "      <td>11.5</td>\n",
       "    </tr>\n",
       "    <tr>\n",
       "      <th>2</th>\n",
       "      <td>usa</td>\n",
       "      <td>plymouth satellite</td>\n",
       "      <td>8</td>\n",
       "      <td>70</td>\n",
       "      <td>18.0</td>\n",
       "      <td>318.0</td>\n",
       "      <td>150.0</td>\n",
       "      <td>3436</td>\n",
       "      <td>11.0</td>\n",
       "    </tr>\n",
       "    <tr>\n",
       "      <th>3</th>\n",
       "      <td>usa</td>\n",
       "      <td>amc rebel sst</td>\n",
       "      <td>8</td>\n",
       "      <td>70</td>\n",
       "      <td>16.0</td>\n",
       "      <td>304.0</td>\n",
       "      <td>150.0</td>\n",
       "      <td>3433</td>\n",
       "      <td>12.0</td>\n",
       "    </tr>\n",
       "    <tr>\n",
       "      <th>4</th>\n",
       "      <td>usa</td>\n",
       "      <td>ford torino</td>\n",
       "      <td>8</td>\n",
       "      <td>70</td>\n",
       "      <td>17.0</td>\n",
       "      <td>302.0</td>\n",
       "      <td>140.0</td>\n",
       "      <td>3449</td>\n",
       "      <td>10.5</td>\n",
       "    </tr>\n",
       "  </tbody>\n",
       "</table>\n",
       "</div>"
      ],
      "text/plain": [
       "  origin                       name  cylinders  model_year   mpg  \\\n",
       "0    usa  chevrolet chevelle malibu          8          70  18.0   \n",
       "1    usa          buick skylark 320          8          70  15.0   \n",
       "2    usa         plymouth satellite          8          70  18.0   \n",
       "3    usa              amc rebel sst          8          70  16.0   \n",
       "4    usa                ford torino          8          70  17.0   \n",
       "\n",
       "   displacement  horsepower  weight  acceleration  \n",
       "0         307.0       130.0    3504          12.0  \n",
       "1         350.0       165.0    3693          11.5  \n",
       "2         318.0       150.0    3436          11.0  \n",
       "3         304.0       150.0    3433          12.0  \n",
       "4         302.0       140.0    3449          10.5  "
      ]
     },
     "execution_count": 2,
     "metadata": {},
     "output_type": "execute_result"
    }
   ],
   "source": [
    "df = pd.read_csv(\"mpg_cleaned.csv\")\n",
    "df.head()"
   ]
  },
  {
   "cell_type": "code",
   "execution_count": 3,
   "id": "a24250da",
   "metadata": {},
   "outputs": [
    {
     "name": "stdout",
     "output_type": "stream",
     "text": [
      "usa       245\n",
      "japan      79\n",
      "europe     68\n",
      "Name: origin, dtype: int64\n",
      "4    199\n",
      "8    103\n",
      "6     83\n",
      "3      4\n",
      "5      3\n",
      "Name: cylinders, dtype: int64\n",
      "73    40\n",
      "78    36\n",
      "76    34\n",
      "75    30\n",
      "82    30\n",
      "70    29\n",
      "79    29\n",
      "72    28\n",
      "77    28\n",
      "81    28\n",
      "71    27\n",
      "80    27\n",
      "74    26\n",
      "Name: model_year, dtype: int64\n"
     ]
    }
   ],
   "source": [
    "print(df['origin'].value_counts())\n",
    "print(df['cylinders'].value_counts())\n",
    "print(df['model_year'].value_counts())"
   ]
  },
  {
   "cell_type": "code",
   "execution_count": 4,
   "id": "6d75f8f1",
   "metadata": {},
   "outputs": [
    {
     "data": {
      "text/plain": [
       "CategoricalDtype(categories=[70, 71, 72, 73, 74, 75, 76, 77, 78, 79, 80, 81, 82], ordered=False)"
      ]
     },
     "execution_count": 4,
     "metadata": {},
     "output_type": "execute_result"
    }
   ],
   "source": [
    "##Here model year is categorical variable\n",
    "df['model_year'] = pd.Categorical(df['model_year'])\n",
    "df['model_year'].dtype"
   ]
  },
  {
   "cell_type": "code",
   "execution_count": 5,
   "id": "f9bbb234",
   "metadata": {},
   "outputs": [],
   "source": [
    "y = df['mpg']\n",
    "x = df.drop(['mpg', 'name','origin'], axis = 1)"
   ]
  },
  {
   "cell_type": "code",
   "execution_count": 6,
   "id": "3453547e",
   "metadata": {},
   "outputs": [],
   "source": [
    "##Standardizing the dataset\n",
    "scaler = StandardScaler().fit(x) \n",
    "x = scaler.transform(x)"
   ]
  },
  {
   "cell_type": "markdown",
   "id": "233d6b88",
   "metadata": {},
   "source": [
    "Splitting test train in the ratio of 2:8"
   ]
  },
  {
   "cell_type": "code",
   "execution_count": 7,
   "id": "6bd548d3",
   "metadata": {},
   "outputs": [],
   "source": [
    "x_train, x_test, y_train, y_test = train_test_split(x, y, test_size=0.2, random_state=10)\n",
    "reg = Lasso(alpha=1)\n",
    "model = reg.fit(x_train, y_train)"
   ]
  },
  {
   "cell_type": "code",
   "execution_count": 8,
   "id": "492ebfd2",
   "metadata": {},
   "outputs": [
    {
     "name": "stdout",
     "output_type": "stream",
     "text": [
      "In sample R squared 78.54\n",
      "Out of sample R squared 76.72\n"
     ]
    }
   ],
   "source": [
    "print('In sample R squared', round(reg.score(x_train, y_train)*100, 2))\n",
    "print('Out of sample R squared', round(reg.score(x_test, y_test)*100, 2))"
   ]
  },
  {
   "cell_type": "code",
   "execution_count": 9,
   "id": "be1590da",
   "metadata": {},
   "outputs": [
    {
     "name": "stdout",
     "output_type": "stream",
     "text": [
      "MSE training set 12.89\n",
      "MSE test set 14.29\n"
     ]
    }
   ],
   "source": [
    "#MSE for the training and test set.\n",
    "\n",
    "# Training data\n",
    "pred_train = reg.predict(x_train)\n",
    "mse_train = mean_squared_error(y_train, pred_train)\n",
    "print('MSE training set', round(mse_train, 2))\n",
    "\n",
    "# Test data\n",
    "pred = reg.predict(x_test)\n",
    "mse_test =mean_squared_error(y_test, pred)\n",
    "print('MSE test set', round(mse_test, 2))"
   ]
  },
  {
   "cell_type": "code",
   "execution_count": 10,
   "id": "f2f348b6",
   "metadata": {},
   "outputs": [],
   "source": [
    "def AIC_BIC_AICc(n,k,residuals):\n",
    "    ll = -(n * 1/2) * (1 + np.log(2 * np.pi)) - (n / 2) * np.log(residuals.dot(residuals) / n)\n",
    "    AIC = (-2 * ll) + (2 * k)\n",
    "    BIC = (-2 * ll) + (k * np.log(n))\n",
    "    AICc = AIC + (2*k*(k+1)/(n-k-1))\n",
    "    return AIC, BIC,AICc"
   ]
  },
  {
   "cell_type": "code",
   "execution_count": 11,
   "id": "6da29b54",
   "metadata": {},
   "outputs": [
    {
     "name": "stdout",
     "output_type": "stream",
     "text": [
      "AIC, BIC and AICc are (1700.3986620293517, 1722.8758811725927, 1700.6731718332733)\n"
     ]
    }
   ],
   "source": [
    "residual = y_train - pred_train\n",
    "print('AIC, BIC and AICc are', AIC_BIC_AICc(x_train.shape[0], x_train.shape[1], residual))"
   ]
  },
  {
   "cell_type": "code",
   "execution_count": 12,
   "id": "2a8a06f7",
   "metadata": {},
   "outputs": [
    {
     "data": {
      "image/png": "[encoded data removed]",
      "text/plain": [
       "<Figure size 432x288 with 1 Axes>"
      ]
     },
     "metadata": {
      "needs_background": "light"
     },
     "output_type": "display_data"
    }
   ],
   "source": [
    "alphas = np.linspace(0.01,500,100)\n",
    "lasso = Lasso(max_iter=10000)\n",
    "coefs = []\n",
    "\n",
    "for a in alphas:\n",
    "    lasso.set_params(alpha=a)\n",
    "    lasso.fit(x_train, y_train)\n",
    "    coefs.append(lasso.coef_)\n",
    "\n",
    "ax = plt.gca()\n",
    "\n",
    "ax.plot(alphas, coefs)\n",
    "ax.set_xscale('log')\n",
    "plt.axis('tight')\n",
    "plt.xlabel('alpha')\n",
    "plt.ylabel('Standardized Coefficients')\n",
    "plt.title('Lasso coefficients as a function of alpha');"
   ]
  },
  {
   "cell_type": "markdown",
   "id": "be8c6cc0",
   "metadata": {},
   "source": [
    "To find the optimal value of alpha, we use scikit learns lasso linear model with iterative fitting along a regularization path (LassoCV).  \n",
    "We will first fit a Lasso model with the AIC criterion.  "
   ]
  },
  {
   "cell_type": "code",
   "execution_count": 13,
   "id": "d9a0fdba",
   "metadata": {},
   "outputs": [],
   "source": [
    "start_time = time.time()\n",
    "lasso_lars_ic = make_pipeline(\n",
    "    StandardScaler(), LassoLarsIC(criterion=\"aic\", normalize=False)\n",
    ").fit(x, y)\n",
    "fit_time = time.time() - start_time"
   ]
  },
  {
   "cell_type": "markdown",
   "id": "360c40dd",
   "metadata": {},
   "source": [
    "We store the AIC metric for each value of alpha used during fit."
   ]
  },
  {
   "cell_type": "code",
   "execution_count": 14,
   "id": "69e09c69",
   "metadata": {},
   "outputs": [],
   "source": [
    "results = pd.DataFrame(\n",
    "    {\n",
    "        \"alphas\": lasso_lars_ic[-1].alphas_,\n",
    "        \"AIC criterion\": lasso_lars_ic[-1].criterion_,\n",
    "    }\n",
    ").set_index(\"alphas\")\n",
    "alpha_aic = lasso_lars_ic[-1].alpha_"
   ]
  },
  {
   "cell_type": "markdown",
   "id": "dc0087bd",
   "metadata": {},
   "source": [
    "Now, we perform the same analysis using the BIC criterion."
   ]
  },
  {
   "cell_type": "code",
   "execution_count": 15,
   "id": "44e98b87",
   "metadata": {},
   "outputs": [],
   "source": [
    "lasso_lars_ic.set_params(lassolarsic__criterion=\"bic\").fit(x, y)\n",
    "results[\"BIC criterion\"] = lasso_lars_ic[-1].criterion_\n",
    "alpha_bic = lasso_lars_ic[-1].alpha_"
   ]
  },
  {
   "cell_type": "markdown",
   "id": "ad09f359",
   "metadata": {},
   "source": [
    "We can check which value of alpha leads to the minimum AIC and BIC."
   ]
  },
  {
   "cell_type": "code",
   "execution_count": 16,
   "id": "171be534",
   "metadata": {},
   "outputs": [
    {
     "data": {
      "text/html": [
       "<style type=\"text/css\">\n",
       "#T_8468b_row6_col0, #T_8468b_row6_col1 {\n",
       "  font-weight: bold;\n",
       "}\n",
       "</style>\n",
       "<table id=\"T_8468b_\">\n",
       "  <thead>\n",
       "    <tr>\n",
       "      <th class=\"blank level0\" >&nbsp;</th>\n",
       "      <th class=\"col_heading level0 col0\" >AIC criterion</th>\n",
       "      <th class=\"col_heading level0 col1\" >BIC criterion</th>\n",
       "    </tr>\n",
       "    <tr>\n",
       "      <th class=\"index_name level0\" >alphas</th>\n",
       "      <th class=\"blank col0\" >&nbsp;</th>\n",
       "      <th class=\"blank col1\" >&nbsp;</th>\n",
       "    </tr>\n",
       "  </thead>\n",
       "  <tbody>\n",
       "    <tr>\n",
       "      <th id=\"T_8468b_level0_row0\" class=\"row_heading level0 row0\" >6.487381740339966</th>\n",
       "      <td id=\"T_8468b_row0_col0\" class=\"data row0 col0\" >3706.377358</td>\n",
       "      <td id=\"T_8468b_row0_col1\" class=\"data row0 col1\" >3706.377358</td>\n",
       "    </tr>\n",
       "    <tr>\n",
       "      <th id=\"T_8468b_level0_row1\" class=\"row_heading level0 row1\" >3.6474703170531315</th>\n",
       "      <td id=\"T_8468b_row1_col0\" class=\"data row1 col0\" >2752.299865</td>\n",
       "      <td id=\"T_8468b_row1_col1\" class=\"data row1 col1\" >2756.271127</td>\n",
       "    </tr>\n",
       "    <tr>\n",
       "      <th id=\"T_8468b_level0_row2\" class=\"row_heading level0 row2\" >2.032748934242374</th>\n",
       "      <td id=\"T_8468b_row2_col0\" class=\"data row2 col0\" >2288.837941</td>\n",
       "      <td id=\"T_8468b_row2_col1\" class=\"data row2 col1\" >2296.780465</td>\n",
       "    </tr>\n",
       "    <tr>\n",
       "      <th id=\"T_8468b_level0_row3\" class=\"row_heading level0 row3\" >0.847226886967307</th>\n",
       "      <td id=\"T_8468b_row3_col0\" class=\"data row3 col0\" >2117.338143</td>\n",
       "      <td id=\"T_8468b_row3_col1\" class=\"data row3 col1\" >2129.251928</td>\n",
       "    </tr>\n",
       "    <tr>\n",
       "      <th id=\"T_8468b_level0_row4\" class=\"row_heading level0 row4\" >0.1859129727607712</th>\n",
       "      <td id=\"T_8468b_row4_col0\" class=\"data row4 col0\" >2084.356344</td>\n",
       "      <td id=\"T_8468b_row4_col1\" class=\"data row4 col1\" >2100.241391</td>\n",
       "    </tr>\n",
       "    <tr>\n",
       "      <th id=\"T_8468b_level0_row5\" class=\"row_heading level0 row5\" >0.08690555633923544</th>\n",
       "      <td id=\"T_8468b_row5_col0\" class=\"data row5 col0\" >2082.563217</td>\n",
       "      <td id=\"T_8468b_row5_col1\" class=\"data row5 col1\" >2098.448265</td>\n",
       "    </tr>\n",
       "    <tr>\n",
       "      <th id=\"T_8468b_level0_row6\" class=\"row_heading level0 row6\" >0.02081139989824289</th>\n",
       "      <td id=\"T_8468b_row6_col0\" class=\"data row6 col0\" >2082.138769</td>\n",
       "      <td id=\"T_8468b_row6_col1\" class=\"data row6 col1\" >2098.023817</td>\n",
       "    </tr>\n",
       "    <tr>\n",
       "      <th id=\"T_8468b_level0_row7\" class=\"row_heading level0 row7\" >0.002867437793699691</th>\n",
       "      <td id=\"T_8468b_row7_col0\" class=\"data row7 col0\" >2082.995689</td>\n",
       "      <td id=\"T_8468b_row7_col1\" class=\"data row7 col1\" >2102.851998</td>\n",
       "    </tr>\n",
       "    <tr>\n",
       "      <th id=\"T_8468b_level0_row8\" class=\"row_heading level0 row8\" >0.0</th>\n",
       "      <td id=\"T_8468b_row8_col0\" class=\"data row8 col0\" >2084.972769</td>\n",
       "      <td id=\"T_8468b_row8_col1\" class=\"data row8 col1\" >2108.800340</td>\n",
       "    </tr>\n",
       "  </tbody>\n",
       "</table>\n"
      ],
      "text/plain": [
       "<pandas.io.formats.style.Styler at 0x1e42643adc0>"
      ]
     },
     "execution_count": 16,
     "metadata": {},
     "output_type": "execute_result"
    }
   ],
   "source": [
    "def highlight_min(x):\n",
    "    x_min = x.min()\n",
    "    return [\"font-weight: bold\" if v == x_min else \"\" for v in x]\n",
    "\n",
    "\n",
    "results.style.apply(highlight_min)"
   ]
  },
  {
   "cell_type": "code",
   "execution_count": 17,
   "id": "2b8fa386",
   "metadata": {},
   "outputs": [
    {
     "name": "stdout",
     "output_type": "stream",
     "text": [
      "AIC for Question 2 is: 2082.1387694606588\n",
      "BIC for Question 2 is: 2098.0238168198207\n",
      "AICc for Question 2 is: 2082.4132792645805\n"
     ]
    }
   ],
   "source": [
    "n = x_train.shape[0]\n",
    "k = x_train.shape[1]\n",
    "\n",
    "print('AIC for Question 2 is:',min(results['AIC criterion']))\n",
    "print('BIC for Question 2 is:', min(results['BIC criterion']))\n",
    "print('AICc for Question 2 is:', (min(results['AIC criterion'] + (2*k*(k+1)/(n-k-1)))))"
   ]
  },
  {
   "cell_type": "code",
   "execution_count": 18,
   "id": "fec7557b",
   "metadata": {},
   "outputs": [],
   "source": [
    "alpa_best = alpha_aic"
   ]
  },
  {
   "cell_type": "markdown",
   "id": "2119acf1",
   "metadata": {},
   "source": [
    "Model selection with an information-criterion is very fast. It relies on computing the criterion on the in-sample set provided to fit. Both criteria estimate the model generalization error based on the training set error and penalize this overly optimistic error. However, this penalty relies on a proper estimation of the degrees of freedom and the noise variance. Both are derived for large samples (asymptotic results) and assume the model is correct, i.e. that the data are actually generated by this model.\n",
    "\n",
    "These models also tend to break when the problem is badly conditioned (more features than samples). It is then required to provide an estimate of the noise variance."
   ]
  },
  {
   "cell_type": "code",
   "execution_count": 19,
   "id": "1274b0c6",
   "metadata": {},
   "outputs": [
    {
     "data": {
      "text/plain": [
       "Lasso(alpha=0.02081139989824289)"
      ]
     },
     "execution_count": 19,
     "metadata": {},
     "output_type": "execute_result"
    }
   ],
   "source": [
    "# Set best alpha\n",
    "lasso_best = Lasso(alpha=alpa_best)\n",
    "lasso_best.fit(x_train, y_train)"
   ]
  },
  {
   "cell_type": "code",
   "execution_count": 20,
   "id": "f388831f",
   "metadata": {},
   "outputs": [
    {
     "name": "stdout",
     "output_type": "stream",
     "text": [
      "[(-0.5898381711351537, array([ 1.48394702, -1.62531533,  1.07728956,  0.66413273,  0.62054034,\n",
      "       -1.285258  ])), (2.748432970140262, array([ 1.48394702, -1.62531533,  1.48873169,  1.57459447,  0.84333403,\n",
      "       -1.46672362])), (0.4438194968243105, array([ 1.48394702, -1.62531533,  1.1825422 ,  1.18439658,  0.54038176,\n",
      "       -1.64818924])), (-0.14081181781954705, array([ 1.48394702, -1.62531533,  1.04858429,  1.18439658,  0.53684535,\n",
      "       -1.285258  ])), (-5.406419848578306, array([ 1.48394702, -1.62531533,  1.02944745,  0.92426466,  0.5557062 ,\n",
      "       -1.82965485])), (0.004659644798272906, array([ 1.48394702, -1.62531533,  2.244637  ,  2.43302983,  1.60719812,\n",
      "       -2.01112047]))]\n"
     ]
    }
   ],
   "source": [
    "print(list(zip(lasso_best.coef_, x)))"
   ]
  },
  {
   "cell_type": "code",
   "execution_count": 21,
   "id": "ca2cd7b6",
   "metadata": {},
   "outputs": [
    {
     "name": "stdout",
     "output_type": "stream",
     "text": [
      "R squared training set 81.23\n",
      "R squared test set 78.79\n"
     ]
    }
   ],
   "source": [
    "print('R squared training set', round(lasso_best.score(x_train, y_train)*100, 2))   ###We are using model with 0.2 test size\n",
    "print('R squared test set', round(lasso_best.score(x_test, y_test)*100, 2))"
   ]
  },
  {
   "cell_type": "code",
   "execution_count": 22,
   "id": "b07e141a",
   "metadata": {},
   "outputs": [
    {
     "name": "stdout",
     "output_type": "stream",
     "text": [
      "MSE training set 11.27\n",
      "MSE test set 13.01\n"
     ]
    }
   ],
   "source": [
    "#MSE for the training and test set.\n",
    "\n",
    "# Training data\n",
    "pred_train = lasso_best.predict(x_train)\n",
    "mse_train = mean_squared_error(y_train, pred_train)\n",
    "print('MSE training set', round(mse_train, 2))\n",
    "\n",
    "# Test data\n",
    "pred = lasso_best.predict(x_test)\n",
    "mse_test =mean_squared_error(y_test, pred)\n",
    "print('MSE test set', round(mse_test, 2))"
   ]
  },
  {
   "cell_type": "markdown",
   "id": "7d85265b",
   "metadata": {},
   "source": [
    "k-fold cross validation To find the optimal value of alpha, we use scikit learns lasso linear model with iterative fitting along a regularization path (LassoCV). The best model is selected by cross-validation."
   ]
  },
  {
   "cell_type": "code",
   "execution_count": 23,
   "id": "42810b2b",
   "metadata": {},
   "outputs": [
    {
     "name": "stdout",
     "output_type": "stream",
     "text": [
      "[0.80850252 0.81854472 0.81194323 0.80668736 0.74555587 0.76779445\n",
      " 0.83387077 0.75471997 0.80292936 0.85344546]\n"
     ]
    }
   ],
   "source": [
    "# 10 fold cross-validation\n",
    "model_kfold = KFold(n_splits=10, random_state=1, shuffle=True)\n",
    "model_lin = LinearRegression()\n",
    "\n",
    "#Creating the model using the complete dataset we have and scoring the R square values\n",
    "model_cv = cross_val_score(model_lin, x, y, scoring='r2', cv=model_kfold, n_jobs=-1)\n",
    "\n",
    "print(model_cv)"
   ]
  },
  {
   "cell_type": "code",
   "execution_count": 24,
   "id": "58e2d352",
   "metadata": {},
   "outputs": [
    {
     "name": "stdout",
     "output_type": "stream",
     "text": [
      "0.8003993706372263\n"
     ]
    }
   ],
   "source": [
    "print(np.mean(model_cv))"
   ]
  },
  {
   "cell_type": "markdown",
   "id": "c45abc82",
   "metadata": {},
   "source": [
    "R squared of is much more improved than above models for each bucket, as we use 10 folds for cross validations. Though the amount of time increases for increaing the folds the model accuracy increases. "
   ]
  },
  {
   "cell_type": "code",
   "execution_count": null,
   "id": "e209db47",
   "metadata": {},
   "outputs": [],
   "source": []
  }
 ],
 "metadata": {
  "kernelspec": {
   "display_name": "Python 3 (ipykernel)",
   "language": "python",
   "name": "python3"
  },
  "language_info": {
   "codemirror_mode": {
    "name": "ipython",
    "version": 3
   },
   "file_extension": ".py",
   "mimetype": "text/x-python",
   "name": "python",
   "nbconvert_exporter": "python",
   "pygments_lexer": "ipython3",
   "version": "3.9.7"
  }
 },
 "nbformat": 4,
 "nbformat_minor": 5
}
